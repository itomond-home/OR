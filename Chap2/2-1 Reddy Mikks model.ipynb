{
 "cells": [
  {
   "cell_type": "code",
   "execution_count": 9,
   "metadata": {},
   "outputs": [
    {
     "name": "stdout",
     "output_type": "stream",
     "text": [
      "Welcome to the CBC MILP Solver \n",
      "Version: 2.10.3 \n",
      "Build Date: Dec 15 2019 \n",
      "\n",
      "command line - /Users/graduser/.anyenv/envs/pyenv/versions/miniforge3-22.11.1-4/envs/OR/lib/python3.12/site-packages/pulp/solverdir/cbc/osx/64/cbc /var/folders/7q/1nj1xxqd2vbbt1gm8h0yfk9m0000gn/T/4d264550535345329d6cfa21884d4aba-pulp.mps -max -timeMode elapsed -branch -printingOptions all -solution /var/folders/7q/1nj1xxqd2vbbt1gm8h0yfk9m0000gn/T/4d264550535345329d6cfa21884d4aba-pulp.sol (default strategy 1)\n",
      "At line 2 NAME          MODEL\n",
      "At line 3 ROWS\n",
      "At line 9 COLUMNS\n",
      "At line 19 RHS\n",
      "At line 24 BOUNDS\n",
      "At line 25 ENDATA\n",
      "Problem MODEL has 4 rows, 2 columns and 7 elements\n",
      "Coin0008I MODEL read with 0 errors\n",
      "Option for timeMode changed from cpu to elapsed\n",
      "Presolve 3 (-1) rows, 2 (0) columns and 6 (-1) elements\n",
      "0  Obj -0 Dual inf 8.999998 (2)\n",
      "2  Obj 21\n",
      "Optimal - objective value 21\n",
      "After Postsolve, objective 21, infeasibilities - dual 0 (0), primal 0 (0)\n",
      "Optimal objective 21 - 2 iterations time 0.002, Presolve 0.00\n",
      "Option for printingOptions changed from normal to all\n",
      "Total time (CPU seconds):       0.00   (Wallclock seconds):       0.00\n",
      "\n",
      "Status: Optimal\n",
      "x1 = 3.0\n",
      "x2 = 1.5\n",
      "Maximum Z = 21.0\n"
     ]
    },
    {
     "name": "stderr",
     "output_type": "stream",
     "text": [
      "/Users/graduser/.anyenv/envs/pyenv/versions/miniforge3-22.11.1-4/envs/OR/lib/python3.12/site-packages/pulp/pulp.py:1316: UserWarning: Spaces are not permitted in the name. Converted to '_'\n",
      "  warnings.warn(\"Spaces are not permitted in the name. Converted to '_'\")\n"
     ]
    }
   ],
   "source": [
    "import pulp\n",
    "\n",
    "# 問題のインスタンスを作成する（最大化問題）\n",
    "problem = pulp.LpProblem(\"Example 2.1-1 Reddy Mikks Company\", pulp.LpMaximize)\n",
    "\n",
    "# 変数を定義する\n",
    "x1 = pulp.LpVariable(\"x1\", lowBound=0)\n",
    "x2 = pulp.LpVariable(\"x2\", lowBound=0)\n",
    "\n",
    "# 目的関数を追加する\n",
    "problem += 5*x1 + 4*x2\n",
    "\n",
    "# 制約条件を追加する\n",
    "problem += 6*x1 + 4*x2 <= 24\n",
    "problem += x1 + 2*x2 <= 6\n",
    "problem += -x1 + x2 <= 1\n",
    "problem += x2 <= 2\n",
    "\n",
    "# 問題を解く\n",
    "problem.solve()\n",
    "\n",
    "# 解を出力する\n",
    "print(f\"Status: {pulp.LpStatus[problem.status]}\")\n",
    "print(f\"x1 = {x1.varValue}\")\n",
    "print(f\"x2 = {x2.varValue}\")\n",
    "print(f\"Maximum Z = {pulp.value(problem.objective)}\")"
   ]
  },
  {
   "cell_type": "markdown",
   "metadata": {},
   "source": []
  },
  {
   "cell_type": "markdown",
   "metadata": {},
   "source": []
  }
 ],
 "metadata": {
  "kernelspec": {
   "display_name": "OR",
   "language": "python",
   "name": "python3"
  },
  "language_info": {
   "codemirror_mode": {
    "name": "ipython",
    "version": 3
   },
   "file_extension": ".py",
   "mimetype": "text/x-python",
   "name": "python",
   "nbconvert_exporter": "python",
   "pygments_lexer": "ipython3",
   "version": "3.12.2"
  }
 },
 "nbformat": 4,
 "nbformat_minor": 2
}
