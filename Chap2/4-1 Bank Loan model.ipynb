{
 "cells": [
  {
   "cell_type": "code",
   "execution_count": 5,
   "metadata": {},
   "outputs": [
    {
     "name": "stdout",
     "output_type": "stream",
     "text": [
      "Welcome to the CBC MILP Solver \n",
      "Version: 2.10.3 \n",
      "Build Date: Dec 15 2019 \n",
      "\n",
      "command line - /Users/graduser/.anyenv/envs/pyenv/versions/miniforge3-22.11.1-4/envs/OR/lib/python3.12/site-packages/pulp/solverdir/cbc/osx/64/cbc /var/folders/7q/1nj1xxqd2vbbt1gm8h0yfk9m0000gn/T/825f920176fd4acca0a0da64bf4f7003-pulp.mps -max -timeMode elapsed -branch -printingOptions all -solution /var/folders/7q/1nj1xxqd2vbbt1gm8h0yfk9m0000gn/T/825f920176fd4acca0a0da64bf4f7003-pulp.sol (default strategy 1)\n",
      "At line 2 NAME          MODEL\n",
      "At line 3 ROWS\n",
      "At line 9 COLUMNS\n",
      "At line 33 RHS\n",
      "At line 38 BOUNDS\n",
      "At line 39 ENDATA\n",
      "Problem MODEL has 4 rows, 5 columns and 18 elements\n",
      "Coin0008I MODEL read with 0 errors\n",
      "Option for timeMode changed from cpu to elapsed\n",
      "Presolve 4 (0) rows, 5 (0) columns and 18 (0) elements\n",
      "0  Obj -0 Dual inf 0.3100495 (5)\n",
      "0  Obj -0 Dual inf 0.3100495 (5)\n",
      "2  Obj 0.99648\n",
      "Optimal - objective value 0.99648\n",
      "Optimal objective 0.99648 - 2 iterations time 0.002\n",
      "Option for printingOptions changed from normal to all\n",
      "Total time (CPU seconds):       0.00   (Wallclock seconds):       0.00\n",
      "\n",
      "Status: Optimal\n",
      "x1 = 0.000000\n",
      "x2 = 0.000000\n",
      "x3 = 7.200000\n",
      "x4 = 0.000000\n",
      "x5 = 4.800000\n",
      "Maximum Z = 0.99648\n"
     ]
    }
   ],
   "source": [
    "import pulp\n",
    "\n",
    "# 問題のインスタンスを作成する（最大化問題）\n",
    "problem = pulp.LpProblem(\"Example 2.4-1 Bank Loan Company\", pulp.LpMaximize)\n",
    "\n",
    "# 変数を定義する\n",
    "x1 = pulp.LpVariable(\"Personal loans\", lowBound=0)\n",
    "x2 = pulp.LpVariable(\"car loans\", lowBound=0)\n",
    "x3 = pulp.LpVariable(\"home loans\", lowBound=0)\n",
    "x4 = pulp.LpVariable(\"farm loans\", lowBound=0)\n",
    "x5 = pulp.LpVariable(\"comeercial loans\", lowBound=0)\n",
    "\n",
    "# 目的関数を追加する\n",
    "problem += 0.026*x1 + 0.0509*x2 + 0.0864*x3 + 0.06875*x4 + 0.078*x5\n",
    "\n",
    "# 制約条件を追加する\n",
    "problem += x1 + x2 + x3 + x4 + x5 <= 12\n",
    "problem += x4 + x5 >= 0.4*(x1 + x2 + x3 + x4 + x5)\n",
    "problem += x3 >= 0.5*(x1 + x2 + x3)\n",
    "problem += 0.1*x1 + 0.07*x2 + 0.03*x3 + 0.05*x4 + 0.02*x5 <= 0.04*(x1 + x2 + x3 + x4 + x5)\n",
    "\n",
    "# 問題を解く\n",
    "problem.solve()\n",
    "\n",
    "# 解を出力する\n",
    "print(f\"Status: {pulp.LpStatus[problem.status]}\")\n",
    "print(f\"x1 = {x1.varValue:.6f}\")\n",
    "print(f\"x2 = {x2.varValue:.6f}\")\n",
    "print(f\"x3 = {x3.varValue:.6f}\")\n",
    "print(f\"x4 = {x4.varValue:.6f}\")\n",
    "print(f\"x5 = {x5.varValue:.6f}\")\n",
    "print(f\"Maximum Z = {pulp.value(problem.objective)}\")"
   ]
  },
  {
   "cell_type": "code",
   "execution_count": null,
   "metadata": {},
   "outputs": [],
   "source": []
  }
 ],
 "metadata": {
  "kernelspec": {
   "display_name": "OR",
   "language": "python",
   "name": "python3"
  },
  "language_info": {
   "codemirror_mode": {
    "name": "ipython",
    "version": 3
   },
   "file_extension": ".py",
   "mimetype": "text/x-python",
   "name": "python",
   "nbconvert_exporter": "python",
   "pygments_lexer": "ipython3",
   "version": "3.12.2"
  }
 },
 "nbformat": 4,
 "nbformat_minor": 2
}
