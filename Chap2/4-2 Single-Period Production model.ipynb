{
 "cells": [
  {
   "cell_type": "code",
   "execution_count": 2,
   "metadata": {},
   "outputs": [
    {
     "name": "stdout",
     "output_type": "stream",
     "text": [
      "Welcome to the CBC MILP Solver \n",
      "Version: 2.10.3 \n",
      "Build Date: Dec 15 2019 \n",
      "\n",
      "command line - /Users/graduser/.anyenv/envs/pyenv/versions/miniforge3-22.11.1-4/envs/OR/lib/python3.12/site-packages/pulp/solverdir/cbc/osx/64/cbc /var/folders/7q/1nj1xxqd2vbbt1gm8h0yfk9m0000gn/T/b9f825fb17324bd48905f9e88d36b95e-pulp.mps -max -timeMode elapsed -branch -printingOptions all -solution /var/folders/7q/1nj1xxqd2vbbt1gm8h0yfk9m0000gn/T/b9f825fb17324bd48905f9e88d36b95e-pulp.sol (default strategy 1)\n",
      "At line 2 NAME          MODEL\n",
      "At line 3 ROWS\n",
      "At line 13 COLUMNS\n",
      "At line 46 RHS\n",
      "At line 55 BOUNDS\n",
      "At line 56 ENDATA\n",
      "Problem MODEL has 8 rows, 8 columns and 24 elements\n",
      "Coin0008I MODEL read with 0 errors\n",
      "Option for timeMode changed from cpu to elapsed\n",
      "Presolve 1 (-7) rows, 4 (-4) columns and 4 (-20) elements\n",
      "0  Obj -37000 Dual inf 188.40909 (4)\n",
      "1  Obj 64625\n",
      "Optimal - objective value 64625\n",
      "After Postsolve, objective 64625, infeasibilities - dual 0 (0), primal 0 (0)\n",
      "Optimal objective 64625 - 1 iterations time 0.002, Presolve 0.00\n",
      "Option for printingOptions changed from normal to all\n",
      "Total time (CPU seconds):       0.00   (Wallclock seconds):       0.01\n",
      "\n",
      "Status: Optimal\n",
      "x1=800.000000, x2=750.000000, x3=387.500000, x4=500.000000\n",
      "s1=0.000000, s2=0.000000, s3=212.500000, s4=0.000000\n",
      "Maximum Z = 64625.0\n"
     ]
    },
    {
     "name": "stderr",
     "output_type": "stream",
     "text": [
      "/Users/graduser/.anyenv/envs/pyenv/versions/miniforge3-22.11.1-4/envs/OR/lib/python3.12/site-packages/pulp/pulp.py:1316: UserWarning: Spaces are not permitted in the name. Converted to '_'\n",
      "  warnings.warn(\"Spaces are not permitted in the name. Converted to '_'\")\n"
     ]
    }
   ],
   "source": [
    "import pulp\n",
    "\n",
    "# 問題のインスタンスを作成する（最大化問題）\n",
    "problem = pulp.LpProblem(\"Example 2.4-2 Single-Period Production Model\", pulp.LpMaximize)\n",
    "\n",
    "# 変数を定義する\n",
    "x1 = pulp.LpVariable(\"num of parka jackets\", lowBound=0)\n",
    "x2 = pulp.LpVariable(\"num of goose jackets\", lowBound=0)\n",
    "x3 = pulp.LpVariable(\"num of pairs of pants\", lowBound=0)\n",
    "x4 = pulp.LpVariable(\"num of pairs of gloves\", lowBound=0)\n",
    "\n",
    "s1 = pulp.LpVariable(\"shotage for parka jacket\", lowBound=0)\n",
    "s2 = pulp.LpVariable(\"shotage for goose jacket\", lowBound=0)\n",
    "s3 = pulp.LpVariable(\"shotage for pairs of pants\", lowBound=0)\n",
    "s4 = pulp.LpVariable(\"shotage for pairs of gloves\", lowBound=0)\n",
    "\n",
    "# 目的関数を追加する\n",
    "problem += 30*x1 + 40*x2 + 20*x3 + 10*x4 - (15*s1 + 20*s2 + 10*s3 + 8*s4)\n",
    "\n",
    "# 制約条件を追加する\n",
    "problem += 0.3*x1 + 0.3*x2 + 0.25*x3 + 0.15*x4 <= 1000\n",
    "problem += 0.25*x1 + 0.35*x2 + 0.30*x3 + 0.1*x4 <= 1000\n",
    "problem += 0.45*x1 + 0.5*x2 + 0.4*x3 + 0.22*x4 <= 1000\n",
    "problem += 0.15*x1 + 0.15*x2 + 0.1*x3 + 0.05*x4 <= 1000\n",
    "\n",
    "problem += x1 + s1 == 800\n",
    "problem += x2 + s2 == 750\n",
    "problem += x3 + s3 == 600\n",
    "problem += x4 + s4 == 500\n",
    "\n",
    "# 問題を解く\n",
    "problem.solve()\n",
    "\n",
    "# 解を出力する\n",
    "print(f\"Status: {pulp.LpStatus[problem.status]}\")\n",
    "print(f\"x1={x1.varValue:.6f}, x2={x2.varValue:.6f}, x3={x3.varValue:.6f}, x4={x4.varValue:.6f}\")\n",
    "print(f\"s1={s1.varValue:.6f}, s2={s2.varValue:.6f}, s3={s3.varValue:.6f}, s4={s4.varValue:.6f}\")\n",
    "print(f\"Maximum Z = {pulp.value(problem.objective)}\")"
   ]
  }
 ],
 "metadata": {
  "kernelspec": {
   "display_name": "OR",
   "language": "python",
   "name": "python3"
  },
  "language_info": {
   "codemirror_mode": {
    "name": "ipython",
    "version": 3
   },
   "file_extension": ".py",
   "mimetype": "text/x-python",
   "name": "python",
   "nbconvert_exporter": "python",
   "pygments_lexer": "ipython3",
   "version": "3.12.2"
  }
 },
 "nbformat": 4,
 "nbformat_minor": 2
}
