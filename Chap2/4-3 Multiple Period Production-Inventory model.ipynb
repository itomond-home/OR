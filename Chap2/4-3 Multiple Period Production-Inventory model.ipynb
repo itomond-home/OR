{
 "cells": [
  {
   "cell_type": "code",
   "execution_count": 4,
   "metadata": {},
   "outputs": [
    {
     "name": "stdout",
     "output_type": "stream",
     "text": [
      "Welcome to the CBC MILP Solver \n",
      "Version: 2.10.3 \n",
      "Build Date: Dec 15 2019 \n",
      "\n",
      "command line - /Users/graduser/.anyenv/envs/pyenv/versions/miniforge3-22.11.1-4/envs/OR/lib/python3.12/site-packages/pulp/solverdir/cbc/osx/64/cbc /var/folders/7q/1nj1xxqd2vbbt1gm8h0yfk9m0000gn/T/b3519942ac194c0fa00d41ef763c96da-pulp.mps -timeMode elapsed -branch -printingOptions all -solution /var/folders/7q/1nj1xxqd2vbbt1gm8h0yfk9m0000gn/T/b3519942ac194c0fa00d41ef763c96da-pulp.sol (default strategy 1)\n",
      "At line 2 NAME          MODEL\n",
      "At line 3 ROWS\n",
      "At line 11 COLUMNS\n",
      "At line 39 RHS\n",
      "At line 46 BOUNDS\n",
      "At line 47 ENDATA\n",
      "Problem MODEL has 6 rows, 11 columns and 16 elements\n",
      "Coin0008I MODEL read with 0 errors\n",
      "Option for timeMode changed from cpu to elapsed\n",
      "Presolve 0 (-6) rows, 0 (-11) columns and 0 (-16) elements\n",
      "Empty problem - 0 rows, 0 columns and 0 elements\n",
      "Optimal - objective value 49980\n",
      "After Postsolve, objective 49980, infeasibilities - dual 0 (0), primal 0 (0)\n",
      "Optimal objective 49980 - 0 iterations time 0.002, Presolve 0.00\n",
      "Option for printingOptions changed from normal to all\n",
      "Total time (CPU seconds):       0.00   (Wallclock seconds):       0.01\n",
      "\n",
      "Status: Optimal\n",
      "x1=100.000000, x2=440.000000, x3=0.000000, x4=140.000000, x5=220.000000, x6=110.000000\n",
      "i1=0.000000, i2=190.000000, i3=0.000000, i4=0.000000, i5=0.000000\n",
      "Minimum Z = 49980.0\n"
     ]
    },
    {
     "name": "stderr",
     "output_type": "stream",
     "text": [
      "/Users/graduser/.anyenv/envs/pyenv/versions/miniforge3-22.11.1-4/envs/OR/lib/python3.12/site-packages/pulp/pulp.py:1316: UserWarning: Spaces are not permitted in the name. Converted to '_'\n",
      "  warnings.warn(\"Spaces are not permitted in the name. Converted to '_'\")\n"
     ]
    }
   ],
   "source": [
    "import pulp\n",
    "\n",
    "# 問題のインスタンスを作成する（最大化問題）\n",
    "problem = pulp.LpProblem(\"Example 2.4-3 Multiple Period Production-Inventory Model\", pulp.LpMinimize)\n",
    "\n",
    "# 変数を定義する\n",
    "x1 = pulp.LpVariable(\"num of unit produced in month 1\", lowBound=0)\n",
    "x2 = pulp.LpVariable(\"num of unit produced in month 2\", lowBound=0)\n",
    "x3 = pulp.LpVariable(\"num of unit produced in month 3\", lowBound=0)\n",
    "x4 = pulp.LpVariable(\"num of unit produced in month 4\", lowBound=0)\n",
    "x5 = pulp.LpVariable(\"num of unit produced in month 5\", lowBound=0)\n",
    "x6 = pulp.LpVariable(\"num of unit produced in month 6\", lowBound=0)\n",
    "\n",
    "i1 = pulp.LpVariable(\"Inventory units left at the end of month 1\", lowBound=0)\n",
    "i2 = pulp.LpVariable(\"Inventory units left at the end of month 2\", lowBound=0)\n",
    "i3 = pulp.LpVariable(\"Inventory units left at the end of month 3\", lowBound=0)\n",
    "i4 = pulp.LpVariable(\"Inventory units left at the end of month 4\", lowBound=0)\n",
    "i5 = pulp.LpVariable(\"Inventory units left at the end of month 5\", lowBound=0)\n",
    "\n",
    "# 目的関数を追加する\n",
    "problem += 50*x1 + 45*x2 + 55*x3 + 48*x4 + 52*x5 + 50*x6 + 8 * (i1 + i2 + i3 + i4 + i5)\n",
    "\n",
    "# 制約条件を追加する\n",
    "problem += x1 - i1 == 100\n",
    "problem += i1 + x2 - i2 == 250\n",
    "problem += i2 + x3 - i3 == 190\n",
    "problem += i3 + x4 - i4 == 140\n",
    "problem += i4 + x5 - i5 == 220\n",
    "problem += i5 + x6 == 110\n",
    "\n",
    "# 問題を解く\n",
    "problem.solve()\n",
    "\n",
    "# 解を出力する\n",
    "print(f\"Status: {pulp.LpStatus[problem.status]}\")\n",
    "print(f\"x1={x1.varValue:.6f}, x2={x2.varValue:.6f}, x3={x3.varValue:.6f}, x4={x4.varValue:.6f}, x5={x5.varValue:.6f}, x6={x6.varValue:.6f}\")\n",
    "print(f\"i1={i1.varValue:.6f}, i2={i2.varValue:.6f}, i3={i3.varValue:.6f}, i4={i4.varValue:.6f}, i5={i5.varValue:.6f}\")\n",
    "print(f\"Minimum Z = {pulp.value(problem.objective)}\")"
   ]
  },
  {
   "cell_type": "code",
   "execution_count": null,
   "metadata": {},
   "outputs": [],
   "source": []
  }
 ],
 "metadata": {
  "kernelspec": {
   "display_name": "OR",
   "language": "python",
   "name": "python3"
  },
  "language_info": {
   "codemirror_mode": {
    "name": "ipython",
    "version": 3
   },
   "file_extension": ".py",
   "mimetype": "text/x-python",
   "name": "python",
   "nbconvert_exporter": "python",
   "pygments_lexer": "ipython3",
   "version": "3.12.2"
  }
 },
 "nbformat": 4,
 "nbformat_minor": 2
}
