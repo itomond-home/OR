{
 "cells": [
  {
   "cell_type": "code",
   "execution_count": 3,
   "metadata": {},
   "outputs": [
    {
     "name": "stdout",
     "output_type": "stream",
     "text": [
      "Status: Optimal\n",
      "x1=50.000000, x2=50.000000, x3=45.000000, x4=45.000000\n",
      "i1=100.0, i2=0.0, i3=50.0, i4=None\n",
      "s1_m=50.000000, s2_m=0.000000, s3_m=0.000000, s4_m=0.000000\n",
      "s1_p=0.000000, s2_p=0.000000, s3_p=0.000000, s4_p=0.000000\n",
      "Minimum Z = 19500.0\n"
     ]
    }
   ],
   "source": [
    "import pulp\n",
    "\n",
    "# 問題のインスタンスを作成する（最大化問題）\n",
    "problem = pulp.LpProblem(\"Example 2.4-4 Multiperiod Production Smoothing Model\", pulp.LpMinimize)\n",
    "\n",
    "# 変数を定義する\n",
    "x1 = pulp.LpVariable(\"Net number of temps at the start of month 1 after any hiring or firing\", lowBound=0)\n",
    "x2 = pulp.LpVariable(\"Net number of temps at the start of month 2 after any hiring or firing\", lowBound=0)\n",
    "x3 = pulp.LpVariable(\"Net number of temps at the start of month 3 after any hiring or firing\", lowBound=0)\n",
    "x4 = pulp.LpVariable(\"Net number of temps at the start of month 4 after any hiring or firing\", lowBound=0)\n",
    "\n",
    "i1 = pulp.LpVariable(\"Units of ending inventory for month 1\", lowBound=0)\n",
    "i2 = pulp.LpVariable(\"Units of ending inventory for month 2\", lowBound=0)\n",
    "i3 = pulp.LpVariable(\"Units of ending inventory for month 3\", lowBound=0)\n",
    "i4 = pulp.LpVariable(\"Units of ending inventory for month 4\", lowBound=0)\n",
    "\n",
    "s1_m = pulp.LpVariable(\"Num of temps hired at the start of month 1\", lowBound=0)\n",
    "s2_m = pulp.LpVariable(\"Num of temps hired at the start of month 2\", lowBound=0)\n",
    "s3_m = pulp.LpVariable(\"Num of temps hired at the start of month 3\", lowBound=0)\n",
    "s4_m = pulp.LpVariable(\"Num of temps hired at the start of month 4\", lowBound=0)\n",
    "\n",
    "s1_p = pulp.LpVariable(\"Num of temps fired at the start of month 1\", lowBound=0)\n",
    "s2_p = pulp.LpVariable(\"Num of temps fired at the start of month 2\", lowBound=0)\n",
    "s3_p = pulp.LpVariable(\"Num of temps fired at the start of month 3\", lowBound=0)\n",
    "s4_p = pulp.LpVariable(\"Num of temps fired at the start of month 4\", lowBound=0)\n",
    "\n",
    "# 目的関数を追加する\n",
    "problem += 50 * (i1 + i2 + i3) + 200 * (s1_m + s2_m + s3_m + s4_m) + 400 * (s1_p + s2_p + s3_p + s4_p)\n",
    "\n",
    "# 制約条件を追加する\n",
    "problem += 10 * x1 == 400 + i1\n",
    "problem += i1 + 10*x2 == 600 + i2\n",
    "problem += i2 + 10*x3 == 400 + i3\n",
    "problem += i3 + 10*x4 == 500\n",
    "problem += x1 == s1_m - s1_p\n",
    "problem += x2 == x1 + s2_m - s2_p\n",
    "problem += x3 == x2 + s3_m - s3_p\n",
    "problem += x4 == x3 + s4_m - s4_p\n",
    "\n",
    "# 問題を解く\n",
    "problem.solve()\n",
    "\n",
    "# 解を出力する\n",
    "print(f\"Status: {pulp.LpStatus[problem.status]}\")\n",
    "print(f\"x1={x1.varValue:.6f}, x2={x2.varValue:.6f}, x3={x3.varValue:.6f}, x4={x4.varValue:.6f}\")\n",
    "print(f\"i1={i1.varValue}, i2={i2.varValue}, i3={i3.varValue}, i4={i4.varValue}\")\n",
    "print(f\"s1_m={s1_m.varValue:.6f}, s2_m={s2_m.varValue:.6f}, s3_m={s3_m.varValue:.6f}, s4_m={s4_m.varValue:.6f}\")\n",
    "print(f\"s1_p={s1_p.varValue:.6f}, s2_p={s2_m.varValue:.6f}, s3_p={s3_m.varValue:.6f}, s4_p={s4_m.varValue:.6f}\")\n",
    "print(f\"Minimum Z = {pulp.value(problem.objective)}\")"
   ]
  }
 ],
 "metadata": {
  "kernelspec": {
   "display_name": "OR",
   "language": "python",
   "name": "python3"
  },
  "language_info": {
   "codemirror_mode": {
    "name": "ipython",
    "version": 3
   },
   "file_extension": ".py",
   "mimetype": "text/x-python",
   "name": "python",
   "nbconvert_exporter": "python",
   "pygments_lexer": "ipython3",
   "version": "3.12.2"
  }
 },
 "nbformat": 4,
 "nbformat_minor": 2
}
