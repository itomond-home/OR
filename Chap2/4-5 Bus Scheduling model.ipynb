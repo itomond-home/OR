{
 "cells": [
  {
   "cell_type": "code",
   "execution_count": 1,
   "metadata": {},
   "outputs": [
    {
     "name": "stdout",
     "output_type": "stream",
     "text": [
      "Status: Optimal\n",
      "x1=0.000000, x2=8.000000, x3=2.000000, x4=12.000000, x5=0.000000, x6=4.000000\n",
      "Minimum Z = 26.0\n"
     ]
    },
    {
     "name": "stderr",
     "output_type": "stream",
     "text": [
      "c:\\Users\\I742374\\AppData\\Local\\Anaconda3\\envs\\OR\\Lib\\site-packages\\pulp\\pulp.py:1316: UserWarning: Spaces are not permitted in the name. Converted to '_'\n",
      "  warnings.warn(\"Spaces are not permitted in the name. Converted to '_'\")\n"
     ]
    }
   ],
   "source": [
    "import pulp\n",
    "\n",
    "# 問題のインスタンスを作成する（最大化問題）\n",
    "problem = pulp.LpProblem(\"Example 2.4-5 Bus Scheduling Model\", pulp.LpMinimize)\n",
    "\n",
    "# 変数を定義する\n",
    "x1 = pulp.LpVariable(\"num of buses starting at 12:01 A.M.\", lowBound=0)\n",
    "x2 = pulp.LpVariable(\"num of buses starting at 4:01 A.M.\", lowBound=0)\n",
    "x3 = pulp.LpVariable(\"num of buses starting at 8:01 A.M.\", lowBound=0)\n",
    "x4 = pulp.LpVariable(\"num of buses starting at 12:01 P.M.\", lowBound=0)\n",
    "x5 = pulp.LpVariable(\"num of buses starting at 4:01 P.M.\", lowBound=0)\n",
    "x6 = pulp.LpVariable(\"num of buses starting at 8:01 P.M.\", lowBound=0)\n",
    "\n",
    "\n",
    "# 目的関数を追加する\n",
    "problem += x1 + x2 + x3 + x4 + x5 + x6\n",
    "\n",
    "# 制約条件を追加する\n",
    "problem += x1 + x6 >= 4\n",
    "problem += x1 + x2 >= 8\n",
    "problem += x2 + x3 >= 10\n",
    "problem += x3 + x4 >= 7\n",
    "problem += x4 + x5 >= 12\n",
    "problem += x5 + x6 >= 4\n",
    "\n",
    "# 問題を解く\n",
    "problem.solve()\n",
    "\n",
    "# 解を出力する\n",
    "print(f\"Status: {pulp.LpStatus[problem.status]}\")\n",
    "print(f\"x1={x1.varValue:.6f}, x2={x2.varValue:.6f}, x3={x3.varValue:.6f}, x4={x4.varValue:.6f}, x5={x5.varValue:.6f}, x6={x6.varValue:.6f}\")\n",
    "print(f\"Minimum Z = {pulp.value(problem.objective)}\")"
   ]
  }
 ],
 "metadata": {
  "kernelspec": {
   "display_name": "OR",
   "language": "python",
   "name": "python3"
  },
  "language_info": {
   "codemirror_mode": {
    "name": "ipython",
    "version": 3
   },
   "file_extension": ".py",
   "mimetype": "text/x-python",
   "name": "python",
   "nbconvert_exporter": "python",
   "pygments_lexer": "ipython3",
   "version": "3.12.2"
  }
 },
 "nbformat": 4,
 "nbformat_minor": 2
}
