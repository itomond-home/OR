{
 "cells": [
  {
   "cell_type": "code",
   "execution_count": 5,
   "metadata": {},
   "outputs": [
    {
     "name": "stdout",
     "output_type": "stream",
     "text": [
      "Status: Optimal\n",
      "x1=36.237033, x2=99.651840, x3=45.296291, x4=0.000000, x5=162.000850\n",
      "Maximum Z = 347875.5147\n"
     ]
    }
   ],
   "source": [
    "import pulp\n",
    "\n",
    "# 問題のインスタンスを作成する（最大化問題）\n",
    "problem = pulp.LpProblem(\"Example 2.4-6 Urban Renewal Model\", pulp.LpMaximize)\n",
    "\n",
    "# 変数を定義する\n",
    "x1 = pulp.LpVariable(\"num of single homes\", lowBound=0)\n",
    "x2 = pulp.LpVariable(\"num of double homes\", lowBound=0)\n",
    "x3 = pulp.LpVariable(\"num of triple homes\", lowBound=0)\n",
    "x4 = pulp.LpVariable(\"num of quadruple homes\", lowBound=0)\n",
    "x5 = pulp.LpVariable(\"num of homes demolished\", lowBound=0)\n",
    "\n",
    "# 目的関数を追加する\n",
    "problem += 1000*x1 + 1900*x2 + 2700*x3 + 3400*x4\n",
    "\n",
    "# 制約条件を追加する\n",
    "problem += 0.18*x1 + 0.28*x2 + 0.4*x4 + 0.5*x4 - 0.2125*x5 <= 0\n",
    "problem += x5 <= 300\n",
    "problem += -0.8*x1 + 0.2*x2 + 0.2*x3 + 0.2*x4 <= 0\n",
    "problem += 0.1*x1 - 0.9*x2 + 0.1*x3 + 0.1*x4 <= 0\n",
    "problem += 0.25*x1 + 0.25*x2 - 0.75*x3 - 0.75*x4 <= 0\n",
    "problem += 50*x1 + 70*x2 + 130*x3 + 160*x4 + 2*x5 <= 15000\n",
    "\n",
    "# 問題を解く\n",
    "problem.solve()\n",
    "\n",
    "# 解を出力する\n",
    "print(f\"Status: {pulp.LpStatus[problem.status]}\")\n",
    "print(f\"x1={x1.varValue:.6f}, x2={x2.varValue:.6f}, x3={x3.varValue:.6f}, x4={x4.varValue:.6f}, x5={x5.varValue:.6f}\")\n",
    "print(f\"Maximum Z = {pulp.value(problem.objective)}\")"
   ]
  },
  {
   "cell_type": "code",
   "execution_count": null,
   "metadata": {},
   "outputs": [],
   "source": []
  }
 ],
 "metadata": {
  "kernelspec": {
   "display_name": "OR",
   "language": "python",
   "name": "python3"
  },
  "language_info": {
   "codemirror_mode": {
    "name": "ipython",
    "version": 3
   },
   "file_extension": ".py",
   "mimetype": "text/x-python",
   "name": "python",
   "nbconvert_exporter": "python",
   "pygments_lexer": "ipython3",
   "version": "3.12.2"
  }
 },
 "nbformat": 4,
 "nbformat_minor": 2
}
